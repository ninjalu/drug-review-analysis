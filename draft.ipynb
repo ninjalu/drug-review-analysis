{
 "cells": [
  {
   "cell_type": "code",
   "execution_count": 1,
   "metadata": {},
   "outputs": [],
   "source": [
    "import pandas as pd\n",
    "import numpy as np\n",
    "import matplotlib.pyplot as plt\n",
    "import seaborn as sns\n",
    "%matplotlib inline"
   ]
  },
  {
   "cell_type": "markdown",
   "metadata": {},
   "source": [
    "### I. Data - first look"
   ]
  },
  {
   "cell_type": "code",
   "execution_count": 2,
   "metadata": {},
   "outputs": [],
   "source": [
    "train = pd.read_csv('data/drugsComTrain_raw.tsv', sep='\\t', index_col=0).reset_index(drop=True)\n",
    "test = pd.read_csv('data/drugsComTest_raw.tsv', sep='\\t', index_col=0).reset_index(drop=True)"
   ]
  },
  {
   "cell_type": "code",
   "execution_count": 3,
   "metadata": {},
   "outputs": [
    {
     "data": {
      "text/html": [
       "<div>\n",
       "<style scoped>\n",
       "    .dataframe tbody tr th:only-of-type {\n",
       "        vertical-align: middle;\n",
       "    }\n",
       "\n",
       "    .dataframe tbody tr th {\n",
       "        vertical-align: top;\n",
       "    }\n",
       "\n",
       "    .dataframe thead th {\n",
       "        text-align: right;\n",
       "    }\n",
       "</style>\n",
       "<table border=\"1\" class=\"dataframe\">\n",
       "  <thead>\n",
       "    <tr style=\"text-align: right;\">\n",
       "      <th></th>\n",
       "      <th>drugName</th>\n",
       "      <th>condition</th>\n",
       "      <th>review</th>\n",
       "      <th>rating</th>\n",
       "      <th>date</th>\n",
       "      <th>usefulCount</th>\n",
       "    </tr>\n",
       "  </thead>\n",
       "  <tbody>\n",
       "    <tr>\n",
       "      <th>0</th>\n",
       "      <td>Valsartan</td>\n",
       "      <td>Left Ventricular Dysfunction</td>\n",
       "      <td>\"It has no side effect, I take it in combinati...</td>\n",
       "      <td>9.0</td>\n",
       "      <td>May 20, 2012</td>\n",
       "      <td>27</td>\n",
       "    </tr>\n",
       "    <tr>\n",
       "      <th>1</th>\n",
       "      <td>Guanfacine</td>\n",
       "      <td>ADHD</td>\n",
       "      <td>\"My son is halfway through his fourth week of ...</td>\n",
       "      <td>8.0</td>\n",
       "      <td>April 27, 2010</td>\n",
       "      <td>192</td>\n",
       "    </tr>\n",
       "    <tr>\n",
       "      <th>2</th>\n",
       "      <td>Lybrel</td>\n",
       "      <td>Birth Control</td>\n",
       "      <td>\"I used to take another oral contraceptive, wh...</td>\n",
       "      <td>5.0</td>\n",
       "      <td>December 14, 2009</td>\n",
       "      <td>17</td>\n",
       "    </tr>\n",
       "    <tr>\n",
       "      <th>3</th>\n",
       "      <td>Ortho Evra</td>\n",
       "      <td>Birth Control</td>\n",
       "      <td>\"This is my first time using any form of birth...</td>\n",
       "      <td>8.0</td>\n",
       "      <td>November 3, 2015</td>\n",
       "      <td>10</td>\n",
       "    </tr>\n",
       "    <tr>\n",
       "      <th>4</th>\n",
       "      <td>Buprenorphine / naloxone</td>\n",
       "      <td>Opiate Dependence</td>\n",
       "      <td>\"Suboxone has completely turned my life around...</td>\n",
       "      <td>9.0</td>\n",
       "      <td>November 27, 2016</td>\n",
       "      <td>37</td>\n",
       "    </tr>\n",
       "  </tbody>\n",
       "</table>\n",
       "</div>"
      ],
      "text/plain": [
       "                   drugName                     condition  \\\n",
       "0                 Valsartan  Left Ventricular Dysfunction   \n",
       "1                Guanfacine                          ADHD   \n",
       "2                    Lybrel                 Birth Control   \n",
       "3                Ortho Evra                 Birth Control   \n",
       "4  Buprenorphine / naloxone             Opiate Dependence   \n",
       "\n",
       "                                              review  rating  \\\n",
       "0  \"It has no side effect, I take it in combinati...     9.0   \n",
       "1  \"My son is halfway through his fourth week of ...     8.0   \n",
       "2  \"I used to take another oral contraceptive, wh...     5.0   \n",
       "3  \"This is my first time using any form of birth...     8.0   \n",
       "4  \"Suboxone has completely turned my life around...     9.0   \n",
       "\n",
       "                date  usefulCount  \n",
       "0       May 20, 2012           27  \n",
       "1     April 27, 2010          192  \n",
       "2  December 14, 2009           17  \n",
       "3   November 3, 2015           10  \n",
       "4  November 27, 2016           37  "
      ]
     },
     "execution_count": 3,
     "metadata": {},
     "output_type": "execute_result"
    }
   ],
   "source": [
    "train.head()"
   ]
  },
  {
   "cell_type": "code",
   "execution_count": 4,
   "metadata": {},
   "outputs": [
    {
     "data": {
      "text/plain": [
       "(161297, 6)"
      ]
     },
     "execution_count": 4,
     "metadata": {},
     "output_type": "execute_result"
    }
   ],
   "source": [
    "train.shape"
   ]
  },
  {
   "cell_type": "code",
   "execution_count": 5,
   "metadata": {},
   "outputs": [
    {
     "name": "stdout",
     "output_type": "stream",
     "text": [
      "<class 'pandas.core.frame.DataFrame'>\n",
      "RangeIndex: 161297 entries, 0 to 161296\n",
      "Data columns (total 6 columns):\n",
      " #   Column       Non-Null Count   Dtype  \n",
      "---  ------       --------------   -----  \n",
      " 0   drugName     161297 non-null  object \n",
      " 1   condition    160398 non-null  object \n",
      " 2   review       161297 non-null  object \n",
      " 3   rating       161297 non-null  float64\n",
      " 4   date         161297 non-null  object \n",
      " 5   usefulCount  161297 non-null  int64  \n",
      "dtypes: float64(1), int64(1), object(4)\n",
      "memory usage: 7.4+ MB\n"
     ]
    }
   ],
   "source": [
    "train.info()"
   ]
  },
  {
   "cell_type": "code",
   "execution_count": 6,
   "metadata": {},
   "outputs": [
    {
     "data": {
      "text/html": [
       "<div>\n",
       "<style scoped>\n",
       "    .dataframe tbody tr th:only-of-type {\n",
       "        vertical-align: middle;\n",
       "    }\n",
       "\n",
       "    .dataframe tbody tr th {\n",
       "        vertical-align: top;\n",
       "    }\n",
       "\n",
       "    .dataframe thead th {\n",
       "        text-align: right;\n",
       "    }\n",
       "</style>\n",
       "<table border=\"1\" class=\"dataframe\">\n",
       "  <thead>\n",
       "    <tr style=\"text-align: right;\">\n",
       "      <th></th>\n",
       "      <th>rating</th>\n",
       "      <th>usefulCount</th>\n",
       "    </tr>\n",
       "  </thead>\n",
       "  <tbody>\n",
       "    <tr>\n",
       "      <th>count</th>\n",
       "      <td>161297.000000</td>\n",
       "      <td>161297.000000</td>\n",
       "    </tr>\n",
       "    <tr>\n",
       "      <th>mean</th>\n",
       "      <td>6.994377</td>\n",
       "      <td>28.004755</td>\n",
       "    </tr>\n",
       "    <tr>\n",
       "      <th>std</th>\n",
       "      <td>3.272329</td>\n",
       "      <td>36.403742</td>\n",
       "    </tr>\n",
       "    <tr>\n",
       "      <th>min</th>\n",
       "      <td>1.000000</td>\n",
       "      <td>0.000000</td>\n",
       "    </tr>\n",
       "    <tr>\n",
       "      <th>25%</th>\n",
       "      <td>5.000000</td>\n",
       "      <td>6.000000</td>\n",
       "    </tr>\n",
       "    <tr>\n",
       "      <th>50%</th>\n",
       "      <td>8.000000</td>\n",
       "      <td>16.000000</td>\n",
       "    </tr>\n",
       "    <tr>\n",
       "      <th>75%</th>\n",
       "      <td>10.000000</td>\n",
       "      <td>36.000000</td>\n",
       "    </tr>\n",
       "    <tr>\n",
       "      <th>max</th>\n",
       "      <td>10.000000</td>\n",
       "      <td>1291.000000</td>\n",
       "    </tr>\n",
       "  </tbody>\n",
       "</table>\n",
       "</div>"
      ],
      "text/plain": [
       "              rating    usefulCount\n",
       "count  161297.000000  161297.000000\n",
       "mean        6.994377      28.004755\n",
       "std         3.272329      36.403742\n",
       "min         1.000000       0.000000\n",
       "25%         5.000000       6.000000\n",
       "50%         8.000000      16.000000\n",
       "75%        10.000000      36.000000\n",
       "max        10.000000    1291.000000"
      ]
     },
     "execution_count": 6,
     "metadata": {},
     "output_type": "execute_result"
    }
   ],
   "source": [
    "train.describe()"
   ]
  },
  {
   "cell_type": "code",
   "execution_count": 7,
   "metadata": {},
   "outputs": [
    {
     "name": "stdout",
     "output_type": "stream",
     "text": [
      "There are 6 features over 161297 samples in the dataset;\n",
      "3436 drugs for 885 conditions;\n",
      "161297 reviews and 161297 ratings averaging 6.99;\n",
      "28 average usefull counts\n"
     ]
    }
   ],
   "source": [
    "print('There are {} features over {} samples in the dataset;'.format(train.shape[1], train.shape[0]))\n",
    "print('{} drugs for {} conditions;'.format(len(train['drugName'].unique()), len(train['condition'].unique())))\n",
    "print('{} reviews and {} ratings averaging {:0.2f};'.format(train.shape[0], train.shape[0], np.mean(train['rating'])))\n",
    "print('{0:.0f} average usefull counts'.format(np.mean(train['usefulCount'])))"
   ]
  },
  {
   "cell_type": "markdown",
   "metadata": {},
   "source": [
    "### II. Setting tasks and considerations"
   ]
  },
  {
   "cell_type": "markdown",
   "metadata": {},
   "source": [
    "Because there isn't a task already defined, I need to come up with an idea I want to explore. For this specific dataset, there are a few things I can do:\n",
    "\n",
    "1. Cluster the drugs based on reviews and conditions.\n",
    "2. Name entity extraction and matching for drugs.\n",
    "3. Build a model to predict the ratings for drugs base on the reviews\n",
    "\n",
    "There are following considerations in choosing ML techniques and strategies:\n",
    "* Time: all of the tasks above does not need real time or near real time inference, which allows for more complicated models.\n",
    "* Resource: unknown.\n",
    "* Explanabiltiy: can be important for task 1 and , but less so for 2.\n",
    "* 3 would probably need 2 for aspect sentiment modelling.\n",
    "\n",
    "Since all of the tasks involve analysing the review text, I start with that."
   ]
  },
  {
   "cell_type": "markdown",
   "metadata": {},
   "source": [
    "### III. Feature engineering and EDA on reviews"
   ]
  },
  {
   "cell_type": "code",
   "execution_count": 8,
   "metadata": {},
   "outputs": [],
   "source": [
    "import spacy"
   ]
  },
  {
   "cell_type": "markdown",
   "metadata": {},
   "source": [
    "#### III.a A quick look at the reviews to have a feel of what's in them."
   ]
  },
  {
   "cell_type": "code",
   "execution_count": 9,
   "metadata": {},
   "outputs": [
    {
     "name": "stdout",
     "output_type": "stream",
     "text": [
      "\"It has no side effect, I take it in combination of Bystolic 5 Mg and Fish Oil\"\n",
      "\"I was skeptical about suboxone when I first heard about it, thinking it was just getting high off of one drug to replace another, but I was wrong.  Suboxone is actually working well to help get my life back in order.  It keeps me from having bad detox, controls my cravings, and also has some sedating, and sometimes annoying side effects, it does not flat out get me high like I originally thought it would.  Suboxone really is a serious treatment for opioid addiction and I strongly recomend it\"\n",
      "\"This medicine is terrible. In fact doctors are terrible for prescribing it. Thanks to a 15 min session of my psychiatrist nodding (while barely looking at me) then writing down a name of a pill to &quot;fix me&quot; my face has never seen such acne. He thought I was depressed before, now I don&#039;t want to even leave the house. DOCTORS OVER PRESCRIBE!!!!! Please trust me, go to your herbal neighborhood store and get things to detox from medicine. The pharmaceutical companies are making a fortune on society believing a magic pill will sustain our life and subdue our problems. You&#039;re smarter than that, right?\"\n",
      "\"My son is halfway through his fourth week of Intuniv. We became concerned when he began this last week, when he started taking the highest dose he will be on. For two days, he could hardly get out of bed, was very cranky, and slept for nearly 8 hours on a drive home from school vacation (very unusual for him.) I called his doctor on Monday morning and she said to stick it out a few days. See how he did at school, and with getting up in the morning. The last two days have been problem free. He is MUCH more agreeable than ever. He is less emotional (a good thing), less cranky. He is remembering all the things he should. Overall his behavior is better. \r\n",
      "We have tried many different medications and so far this is the most effective.\"\n",
      "\"I got one dose of the Depo shot May 2015. Two months after getting the shot I had spotting here &amp; there. It&#039;s November 2015 now &amp; for the past 4 months I&#039;ve had spotting almost everyday, painful sex, no sex drive, fatigue, always hungry &amp; I&#039;ve gained weight like crazy. I get irritated very easily, &amp; get mood swings. Lately I&#039;ve been bleeding heavily it&#039;s annoying! I have an appointment in 2 months to see what&#039;s going on &amp; I was told the depo shot isn&#039;t suppose to stop your periods until 2nd or 3rd shot. The only reason I got the depo was because my period was horrible, it was heavy the whole time &amp; the cramps were unbearable. I most definitely DON&#039;T recommend the Depo shot!\"\n",
      "\"24 years old and a sufferer since 5. After Humira, my psoriasis is starting to clear up. Not totally but starting to fade. As for the nails, not much of a change. I had very bad plaque psoriasis covering almost every part of my body and guttate psoriasis mainly on my wrists, arms, and back. It was painful when the lesions on my shins would crack and bleed. I&#039;ve tried almost every cream/spray but those only temporary relieved them. But ever since I started Humira 2 months ago the plaque went away, my scalp psoriasis is gone, guttate psoriasis is clearing, and overall no more itching, flaking, cracking, and bleeding! The only side effects, if they are even caused by this medication is that I&#039;ve been getting acne.\"\n",
      "\"I used to take another oral contraceptive, which had 21 pill cycle, and was very happy- very light periods, max 5 days, no other side effects. But it contained hormone gestodene, which is not available in US, so I switched to Lybrel, because the ingredients are similar. When my other pills ended, I started Lybrel immediately, on my first day of period, as the instructions said. And the period lasted for two weeks. When taking the second pack- same two weeks. And now, with third pack things got even worse- my third period lasted for two weeks and now it&#039;s the end of the third week- I still have daily brown discharge.\r\n",
      "The positive side is that I didn&#039;t have any other side effects. The idea of being period free was so tempting... Alas.\"\n",
      "\"I have had hives a few times now. I just got done with a horrible case from penicillin. Took prednisone for several days.  Some hives appear in the morning. Now I control with one Zyrtec per day. It works for me. No side effects. Great product.\"\n",
      "\"I had back surgery (Laminectemy of L4, L5 and S4 , 8 inch titanium rod w/7 screws)in October 2006 plus I have severe Fibromyalgia and although Percocet makes me a little sleepy, this is the first time in 4 years that I feel relatively pain free. About 5 doctors were afraid of giving me anything stronger than regular Vicoden because of habit forming. Who cared if I couldn&#039;t walk or participate in activities. I finally found a doctor that was willing to help! Sometimes they give dogs more pallative care than humans. I should have gone to a vetenerian instead. \"\n",
      "\"This is my first time using any form of birth control. I&#039;m glad I went with the patch, I have been on it for 8 months. At first It decreased my libido but that subsided. The only downside is that it made my periods longer (5-6 days to be exact) I used to only have periods for 3-4 days max also made my cramps intense for the first two days of my period, I never had cramps before using birth control. Other than that in happy with the patch\"\n",
      "\"I started taking Midodrine early last year and like others before me have said...it&#039;s the best thing since sliced bread! I had to get out of the military because of bradycardia and vaso-vagal syncope and I was taking fludrocortisone at the time. The Florinef was awful, my hair was falling out, my nails were tissue paper thin (and painful), and I was still passing out every time I stood up. Midodrine has allowed me to do the things I love! I am a serious bowler (trying to go pro) and without this awesome stuff. I wouldn&#039;t be able to bowl more than one game (and very slowly) without passing out. I can also take showers STANDING UP! *GASP!!!* What a concept! It&#039;s a lovely medication! My only quabble is the tingling on my head.\"\n",
      "\"I just got my results of my first blood test after being on Livalo for two months. My total cholesterol was 189, and my good cholesterol was 60. Very happy with the results as my cholesterol hovered around 240 for the past 20 years. I had tried Crestor and Pravachol with bad muscle aches. My doctor finally talked me in to trying another Statin, since she said Livalo was better tolerated. So far, so good!\"\n",
      "\"Suboxone has completely turned my life around.  I feel healthier, I&#039;m excelling at my job and I always have money in my pocket and my savings account.  I had none of those before Suboxone and spent years abusing oxycontin.  My paycheck was already spent by the time I got it and I started resorting to scheming and stealing to fund my addiction.  All that is history.  If you&#039;re ready to stop, there&#039;s a good chance that suboxone will put you on the path of great life again.  I have found the side-effects to be minimal compared to oxycontin.  I&#039;m actually sleeping better.   Slight constipation is about it for me.  It truly is amazing. The cost pales in comparison to what I spent on oxycontin.\"\n",
      "\"For me personally, I hated Lexpro.\r",
      "\r\n",
      "It made me a shell of the person I used to be and like others have described, a walking zombie.\r",
      "\r\n",
      "I couldn&#039;t connect with my emotions whatsoever. There are much better SSRI&#039;s available!\"\n",
      "\"I had been on 20mg generic propranolol for 15 years. When I went to fill my prescription for 2015, I was told my generic propranolol was discontinued. I had to buy a new generic p, at 10 times the price. The new generic was not working to lower blood pressure. My doctor said I needed to take 60mg. When I got my dose up to 40mg, I then noticed my blood pressure was starting to come down some. At 40mg I developed whole body shaking that continued in all waking hours. Every time I either reduce my dose to 15mg or stop taking it, the whole body tremor stops. My last doctor says it is not the propranolol, that it is my thyroid meds. I have been on same thyroid meds since 2012 and never got this shaking prior to this new generic propranolol.\"\n"
     ]
    }
   ],
   "source": [
    "for i in range(5):\n",
    "    print(train.loc[i, 'review'])\n",
    "    print(train.loc[i+50000, 'review'])\n",
    "    print(train.loc[i+100000, 'review'])"
   ]
  },
  {
   "cell_type": "markdown",
   "metadata": {},
   "source": [
    "There are the following observations and thoughts:\n",
    "1. `&#039;` (') and `&quot;` (\") didn't get encoded properly that needs cleaning.\n",
    "2. \"\" around reviews need stripping\n",
    "3. Sentiment is multi-dimensional that calls for more targeted sentiment analysis instead of blanket analysis\n",
    "4. Entity recognition of related medicines can be useful to build knowledge."
   ]
  },
  {
   "cell_type": "markdown",
   "metadata": {},
   "source": [
    "#### III.b Data cleaning and tokenisation"
   ]
  },
  {
   "cell_type": "code",
   "execution_count": 10,
   "metadata": {},
   "outputs": [],
   "source": [
    "import html\n",
    "train['review'] = train['review'].apply(html.unescape)\n",
    "train['review'] = train['review'].str.strip('\"')"
   ]
  },
  {
   "cell_type": "code",
   "execution_count": 11,
   "metadata": {},
   "outputs": [
    {
     "name": "stdout",
     "output_type": "stream",
     "text": [
      "Awful medicine, the worst. The side effects outweigh the benefit.  Headache the first night, leg and back pain, Sensitive skin,  just awful. Pain got worse and worse. I changed my meds to ciproflaxcin. I have used this in the past so hopefully, it will continue to help. I even questioned the doc at urgent care to see if I can take cipro and she offered macrobid. Maybe this urgent care and this medication is something they get a deal on....stay away from macrobid.\n",
      "I'm 27 and I have been using Drysol since I was 21.  I found deodorants and antiperspirants did not work for me.  I have never been a heavy sweater but when I would wear them the combination of my sweat and the products would be a weird soapy smell.  I used Drysol at first once a week (using it 2 nights in a row gave me an armpit rash which hurt) but I used it when I needed *if I smelled and was sweating I would use it again that night*  I find the next night after using it my armpits are a little itchy, but I have nothing to say but good things about Drysol.  6 years later I don't even remember the last time I used it (maybe months ago) I have saved money on ruined shirts from pit stains and I don't ever smell. Strongly recommended!\n",
      "So I've actually had this implant since I've been 15, and I'm by 18. When I first had it put in, I bled and spotted for 6 months, which I was warned would happen. After that my cycle was very irregular, either every couple weeks or couple months or even 4-5 months without. It is sometimes worrying going so long without one, because I always wonder if there's something else wrong. But I have to say I love the implant, it's super effective. I get no cramps or mood swings and my cycles are very light and last 2-4 days at most.  I would definitely recommend this.\n",
      "I've been on Latuda for a little under 2 and a half years. It almost completely stopped my psychotic symptoms except I still hear voices now and then, mainly when I try to go to sleep, but there are no delusions or paranoia while on the drug. I take cogentin in combination with it because it causes me to shake a lot. Main side effects I experience include anhedonia, shakiness, jaw clenching, and inability to sit still. However, I'm happy with it because it actually works, while other antipsychotic meds I tried did not, and it doesn't cause the endless hunger that I experienced with drugs like Saphris, Haldol, Zyprexa, and Risperdal. It should be noted I am at the max daily dose, which is 160mg.\n",
      "Stelara very effective, have been on it for 3 years and can lengthen time between injections i.e. 16 weeks without too much flare up. Have experienced chronic rhinitis and symptoms of depression as side effects.\n",
      "I got Skyla 2 days ago and was really nervous before my appointment because I read all of the reviews that same morning. I took 2 ibuprofen before. The application felt like a regular Pap smear at first and it lasted about 30 seconds, I was surprised when he said he was done. It was painful but bearable, I felt 3 extremely severe cramps and it was over after that. I've had cramps for the past 2 days, and they're nothing like the minor cramps I used to experience with my regular period. Loss of appetite and moody because of the cramps but it's not that bad.\n",
      "I've seriously only been using Epiduo for four days and have seen A HUGE improvement. My skin is a little dry but I use Cetaphil moisturizer to balance it out. I am also using Doxycycline along with the topical treatment (Epiduo) and my acne is getting soooo much better. LOVE IT!\n",
      "pretty good.\n",
      "My youngest son has taken it for meltdowns for some time now. He sleeps better too. It has caused him to gain some weight. My oldest son was on ADHD medication for years, when he reached puberty it caused many problems. So the Doctor prescribed risperidone for him too, and it has helped him gain so much self control. They are both in high school and doing well.\n",
      "This cream is absolutely horrible. I will admit the cream initially does what is says it will do, gets rid of the redness. However this is completely temporary, around 6 hours in my experience. What comes afterward is a serious rebound. I spent the day outside in the cold weather (normally a trigger for me, which would normally warrant redness) and when I came back in around 6 hours later my face has never felt hotter in my life. My skin burned and was unbelievably deep red, it looked as if I had held my face up against a fire. This lasted around 2-3 hours. I used it once more thinking my skin needed to get used to it and the results were even worse. I threw away all of my samples after 2 days.\n",
      "LIFE CHANGING - I have tried many of your typical RA drugs since being diagnosed at 22 (Plaquenil, Methylprednisolone for 5 years ) \n",
      "I have a new found love for this birth control after switching from it to Seasonique to get out of having a period every month. The Seasonique made me gain weight and I broke out horribly. Been back on Loestrin a week and the weight is gone, my face is back to normal, my poor breasts are coming back (this birth control makes my breasts go up at least a cup size, awesome side effect). \r\n",
      "\r\n",
      "Beside the breast growth it has also not failed me as a birth control method, I'm always sure to take it exactly on time every day.\n",
      "My blood pressure has been around 160/100. Doctor prescribed Azor 40/10. Just 4 hrs later my reading showed 120/82. I was amazed. I am now on it daily. Thanks to Azor.\n",
      "So after some horrendous blows from life (car accident where my hubs was driving, me in passenger seat, mom behind me...T-Boned and she was killed instantly, I had months of physical therapy, miscarriages, Dad had a massive stroke....just bad thing upon bad thing) I realized that these outside circumstances where absolutely stealing my life away. Now, even previous to these trials and tribulations, I've always been a fairly anxious person. I learned to cope with my \"issues\" through prayer, yoga, books....things of that nature but this last blow of the accident sent some place else. I finally realized I needed help. I'm only on day 2. I feel better but drowsy. I'm hoping this will at least stabilize me once again. (fingers crossed)\n",
      "It has literally made me who I am. If I didn't take it I wouldn't focus, I wouldn't pass school. It helps a lot.\n"
     ]
    }
   ],
   "source": [
    "# check result\n",
    "for i in range(5):\n",
    "    print(train.loc[i+100, 'review'])\n",
    "    print(train.loc[i+50300, 'review'])\n",
    "    print(train.loc[i+106000, 'review'])"
   ]
  },
  {
   "cell_type": "markdown",
   "metadata": {},
   "source": [
    "Looks clean! Now tokenisation with the new spaCy! The new model is roberta-base"
   ]
  },
  {
   "cell_type": "code",
   "execution_count": 12,
   "metadata": {},
   "outputs": [],
   "source": [
    "nlp = spacy.load('en_core_web_trf')"
   ]
  },
  {
   "cell_type": "code",
   "execution_count": 13,
   "metadata": {},
   "outputs": [],
   "source": [
    "# tokenize and lemmatize\n",
    "def tokenise(text):\n",
    "    doc = nlp(text)\n",
    "    return [word.lemma_ for word in doc]\n",
    "\n",
    "# entity name extraction\n",
    "def ne(text):\n",
    "    doc = nlp(text)\n",
    "    return [ent.text for ent in doc.ents if ent.label_=='PRODUCT']"
   ]
  },
  {
   "cell_type": "code",
   "execution_count": 14,
   "metadata": {},
   "outputs": [
    {
     "data": {
      "text/plain": [
       "0    [it, have, no, side, effect, ,, I, take, it, i...\n",
       "Name: review, dtype: object"
      ]
     },
     "execution_count": 14,
     "metadata": {},
     "output_type": "execute_result"
    }
   ],
   "source": [
    "train['review'][:1].apply(tokenise)"
   ]
  },
  {
   "cell_type": "code",
   "execution_count": 15,
   "metadata": {},
   "outputs": [
    {
     "data": {
      "text/plain": [
       "1           [Intuniv]\n",
       "2    [Lybrel, Lybrel]\n",
       "Name: review, dtype: object"
      ]
     },
     "execution_count": 15,
     "metadata": {},
     "output_type": "execute_result"
    }
   ],
   "source": [
    "train['review'][1:3].apply(ne)"
   ]
  },
  {
   "cell_type": "code",
   "execution_count": 16,
   "metadata": {},
   "outputs": [
    {
     "name": "stdout",
     "output_type": "stream",
     "text": [
      "It has no side effect, I take it in combination of Bystolic 5 Mg and Fish Oil\n"
     ]
    }
   ],
   "source": [
    "print(train.loc[0, 'review'])"
   ]
  },
  {
   "cell_type": "code",
   "execution_count": 17,
   "metadata": {},
   "outputs": [
    {
     "name": "stdout",
     "output_type": "stream",
     "text": [
      "[]\n"
     ]
    }
   ],
   "source": [
    "doc = nlp(train.loc[0, 'review'])\n",
    "print([ent.text for ent in doc.ents])"
   ]
  },
  {
   "cell_type": "code",
   "execution_count": 18,
   "metadata": {},
   "outputs": [
    {
     "data": {
      "text/plain": [
       "1    Guanfacine\n",
       "2        Lybrel\n",
       "Name: drugName, dtype: object"
      ]
     },
     "execution_count": 18,
     "metadata": {},
     "output_type": "execute_result"
    }
   ],
   "source": [
    "train.loc[[1, 2], 'drugName']"
   ]
  },
  {
   "cell_type": "markdown",
   "metadata": {},
   "source": [
    "A quick test above explosed the kind of problem with the entity matching. SpaCy's entity recognition recognises 'Intuniv' is a name of the drug, but 'Guanfacine' recorded in the 'drugName' column is actually the active ingredient. The second can be matched well. In light of this, I update my plans as follows:\n",
    "\n",
    "1. For clustering, instead looking at building a network graph?\n",
    "2. For name entity matching: it could be interesting to look at how entities map in relation to each other, drug names, active ingredients, related drugs mentioned, and conditions using a network graph?\n",
    "3. For rating prediction: the entity names needs to be macthed and replaced before aspect sentiment analysis. To avoid problems stemming from competitor/alternative drug mentions or ambigorous drug names mismatching. There are following solutions: a) Drug/ingredients matching --> use a dictionary of drug|ingredients matches to help matching review mentions to 'drugName'. b) Failing to match drug names --> assume general sentiment is the aspect sentiment towards this drug.\n",
    "4. Update the maching network graph with aspects and sentiments"
   ]
  },
  {
   "cell_type": "code",
   "execution_count": 23,
   "metadata": {},
   "outputs": [],
   "source": [
    "from preprocessing import *"
   ]
  },
  {
   "cell_type": "code",
   "execution_count": 28,
   "metadata": {},
   "outputs": [
    {
     "name": "stdout",
     "output_type": "stream",
     "text": [
      "CPU times: user 3.81 s, sys: 1.71 s, total: 5.52 s\n",
      "Wall time: 6h 6min 50s\n"
     ]
    }
   ],
   "source": [
    "%%time\n",
    "train['review_lemma'] = preprocess(train['review'], lemma_chunk, chunksize=1000)"
   ]
  },
  {
   "cell_type": "code",
   "execution_count": 33,
   "metadata": {},
   "outputs": [
    {
     "ename": "KeyboardInterrupt",
     "evalue": "",
     "output_type": "error",
     "traceback": [
      "\u001b[0;31m---------------------------------------------------------------------------\u001b[0m",
      "\u001b[0;31mKeyboardInterrupt\u001b[0m                         Traceback (most recent call last)",
      "\u001b[0;32m<timed exec>\u001b[0m in \u001b[0;36m<module>\u001b[0;34m\u001b[0m\n",
      "\u001b[0;32m<timed exec>\u001b[0m in \u001b[0;36mpreprocess\u001b[0;34m(texts, task, chunksize)\u001b[0m\n",
      "\u001b[0;32m~/anaconda3/lib/python3.8/site-packages/joblib/parallel.py\u001b[0m in \u001b[0;36m__call__\u001b[0;34m(self, iterable)\u001b[0m\n\u001b[1;32m   1059\u001b[0m \u001b[0;34m\u001b[0m\u001b[0m\n\u001b[1;32m   1060\u001b[0m             \u001b[0;32mwith\u001b[0m \u001b[0mself\u001b[0m\u001b[0;34m.\u001b[0m\u001b[0m_backend\u001b[0m\u001b[0;34m.\u001b[0m\u001b[0mretrieval_context\u001b[0m\u001b[0;34m(\u001b[0m\u001b[0;34m)\u001b[0m\u001b[0;34m:\u001b[0m\u001b[0;34m\u001b[0m\u001b[0;34m\u001b[0m\u001b[0m\n\u001b[0;32m-> 1061\u001b[0;31m                 \u001b[0mself\u001b[0m\u001b[0;34m.\u001b[0m\u001b[0mretrieve\u001b[0m\u001b[0;34m(\u001b[0m\u001b[0;34m)\u001b[0m\u001b[0;34m\u001b[0m\u001b[0;34m\u001b[0m\u001b[0m\n\u001b[0m\u001b[1;32m   1062\u001b[0m             \u001b[0;31m# Make sure that we get a last message telling us we are done\u001b[0m\u001b[0;34m\u001b[0m\u001b[0;34m\u001b[0m\u001b[0;34m\u001b[0m\u001b[0m\n\u001b[1;32m   1063\u001b[0m             \u001b[0melapsed_time\u001b[0m \u001b[0;34m=\u001b[0m \u001b[0mtime\u001b[0m\u001b[0;34m.\u001b[0m\u001b[0mtime\u001b[0m\u001b[0;34m(\u001b[0m\u001b[0;34m)\u001b[0m \u001b[0;34m-\u001b[0m \u001b[0mself\u001b[0m\u001b[0;34m.\u001b[0m\u001b[0m_start_time\u001b[0m\u001b[0;34m\u001b[0m\u001b[0;34m\u001b[0m\u001b[0m\n",
      "\u001b[0;32m~/anaconda3/lib/python3.8/site-packages/joblib/parallel.py\u001b[0m in \u001b[0;36mretrieve\u001b[0;34m(self)\u001b[0m\n\u001b[1;32m    938\u001b[0m             \u001b[0;32mtry\u001b[0m\u001b[0;34m:\u001b[0m\u001b[0;34m\u001b[0m\u001b[0;34m\u001b[0m\u001b[0m\n\u001b[1;32m    939\u001b[0m                 \u001b[0;32mif\u001b[0m \u001b[0mgetattr\u001b[0m\u001b[0;34m(\u001b[0m\u001b[0mself\u001b[0m\u001b[0;34m.\u001b[0m\u001b[0m_backend\u001b[0m\u001b[0;34m,\u001b[0m \u001b[0;34m'supports_timeout'\u001b[0m\u001b[0;34m,\u001b[0m \u001b[0;32mFalse\u001b[0m\u001b[0;34m)\u001b[0m\u001b[0;34m:\u001b[0m\u001b[0;34m\u001b[0m\u001b[0;34m\u001b[0m\u001b[0m\n\u001b[0;32m--> 940\u001b[0;31m                     \u001b[0mself\u001b[0m\u001b[0;34m.\u001b[0m\u001b[0m_output\u001b[0m\u001b[0;34m.\u001b[0m\u001b[0mextend\u001b[0m\u001b[0;34m(\u001b[0m\u001b[0mjob\u001b[0m\u001b[0;34m.\u001b[0m\u001b[0mget\u001b[0m\u001b[0;34m(\u001b[0m\u001b[0mtimeout\u001b[0m\u001b[0;34m=\u001b[0m\u001b[0mself\u001b[0m\u001b[0;34m.\u001b[0m\u001b[0mtimeout\u001b[0m\u001b[0;34m)\u001b[0m\u001b[0;34m)\u001b[0m\u001b[0;34m\u001b[0m\u001b[0;34m\u001b[0m\u001b[0m\n\u001b[0m\u001b[1;32m    941\u001b[0m                 \u001b[0;32melse\u001b[0m\u001b[0;34m:\u001b[0m\u001b[0;34m\u001b[0m\u001b[0;34m\u001b[0m\u001b[0m\n\u001b[1;32m    942\u001b[0m                     \u001b[0mself\u001b[0m\u001b[0;34m.\u001b[0m\u001b[0m_output\u001b[0m\u001b[0;34m.\u001b[0m\u001b[0mextend\u001b[0m\u001b[0;34m(\u001b[0m\u001b[0mjob\u001b[0m\u001b[0;34m.\u001b[0m\u001b[0mget\u001b[0m\u001b[0;34m(\u001b[0m\u001b[0;34m)\u001b[0m\u001b[0;34m)\u001b[0m\u001b[0;34m\u001b[0m\u001b[0;34m\u001b[0m\u001b[0m\n",
      "\u001b[0;32m~/anaconda3/lib/python3.8/multiprocessing/pool.py\u001b[0m in \u001b[0;36mget\u001b[0;34m(self, timeout)\u001b[0m\n\u001b[1;32m    763\u001b[0m \u001b[0;34m\u001b[0m\u001b[0m\n\u001b[1;32m    764\u001b[0m     \u001b[0;32mdef\u001b[0m \u001b[0mget\u001b[0m\u001b[0;34m(\u001b[0m\u001b[0mself\u001b[0m\u001b[0;34m,\u001b[0m \u001b[0mtimeout\u001b[0m\u001b[0;34m=\u001b[0m\u001b[0;32mNone\u001b[0m\u001b[0;34m)\u001b[0m\u001b[0;34m:\u001b[0m\u001b[0;34m\u001b[0m\u001b[0;34m\u001b[0m\u001b[0m\n\u001b[0;32m--> 765\u001b[0;31m         \u001b[0mself\u001b[0m\u001b[0;34m.\u001b[0m\u001b[0mwait\u001b[0m\u001b[0;34m(\u001b[0m\u001b[0mtimeout\u001b[0m\u001b[0;34m)\u001b[0m\u001b[0;34m\u001b[0m\u001b[0;34m\u001b[0m\u001b[0m\n\u001b[0m\u001b[1;32m    766\u001b[0m         \u001b[0;32mif\u001b[0m \u001b[0;32mnot\u001b[0m \u001b[0mself\u001b[0m\u001b[0;34m.\u001b[0m\u001b[0mready\u001b[0m\u001b[0;34m(\u001b[0m\u001b[0;34m)\u001b[0m\u001b[0;34m:\u001b[0m\u001b[0;34m\u001b[0m\u001b[0;34m\u001b[0m\u001b[0m\n\u001b[1;32m    767\u001b[0m             \u001b[0;32mraise\u001b[0m \u001b[0mTimeoutError\u001b[0m\u001b[0;34m\u001b[0m\u001b[0;34m\u001b[0m\u001b[0m\n",
      "\u001b[0;32m~/anaconda3/lib/python3.8/multiprocessing/pool.py\u001b[0m in \u001b[0;36mwait\u001b[0;34m(self, timeout)\u001b[0m\n\u001b[1;32m    760\u001b[0m \u001b[0;34m\u001b[0m\u001b[0m\n\u001b[1;32m    761\u001b[0m     \u001b[0;32mdef\u001b[0m \u001b[0mwait\u001b[0m\u001b[0;34m(\u001b[0m\u001b[0mself\u001b[0m\u001b[0;34m,\u001b[0m \u001b[0mtimeout\u001b[0m\u001b[0;34m=\u001b[0m\u001b[0;32mNone\u001b[0m\u001b[0;34m)\u001b[0m\u001b[0;34m:\u001b[0m\u001b[0;34m\u001b[0m\u001b[0;34m\u001b[0m\u001b[0m\n\u001b[0;32m--> 762\u001b[0;31m         \u001b[0mself\u001b[0m\u001b[0;34m.\u001b[0m\u001b[0m_event\u001b[0m\u001b[0;34m.\u001b[0m\u001b[0mwait\u001b[0m\u001b[0;34m(\u001b[0m\u001b[0mtimeout\u001b[0m\u001b[0;34m)\u001b[0m\u001b[0;34m\u001b[0m\u001b[0;34m\u001b[0m\u001b[0m\n\u001b[0m\u001b[1;32m    763\u001b[0m \u001b[0;34m\u001b[0m\u001b[0m\n\u001b[1;32m    764\u001b[0m     \u001b[0;32mdef\u001b[0m \u001b[0mget\u001b[0m\u001b[0;34m(\u001b[0m\u001b[0mself\u001b[0m\u001b[0;34m,\u001b[0m \u001b[0mtimeout\u001b[0m\u001b[0;34m=\u001b[0m\u001b[0;32mNone\u001b[0m\u001b[0;34m)\u001b[0m\u001b[0;34m:\u001b[0m\u001b[0;34m\u001b[0m\u001b[0;34m\u001b[0m\u001b[0m\n",
      "\u001b[0;32m~/anaconda3/lib/python3.8/threading.py\u001b[0m in \u001b[0;36mwait\u001b[0;34m(self, timeout)\u001b[0m\n\u001b[1;32m    556\u001b[0m             \u001b[0msignaled\u001b[0m \u001b[0;34m=\u001b[0m \u001b[0mself\u001b[0m\u001b[0;34m.\u001b[0m\u001b[0m_flag\u001b[0m\u001b[0;34m\u001b[0m\u001b[0;34m\u001b[0m\u001b[0m\n\u001b[1;32m    557\u001b[0m             \u001b[0;32mif\u001b[0m \u001b[0;32mnot\u001b[0m \u001b[0msignaled\u001b[0m\u001b[0;34m:\u001b[0m\u001b[0;34m\u001b[0m\u001b[0;34m\u001b[0m\u001b[0m\n\u001b[0;32m--> 558\u001b[0;31m                 \u001b[0msignaled\u001b[0m \u001b[0;34m=\u001b[0m \u001b[0mself\u001b[0m\u001b[0;34m.\u001b[0m\u001b[0m_cond\u001b[0m\u001b[0;34m.\u001b[0m\u001b[0mwait\u001b[0m\u001b[0;34m(\u001b[0m\u001b[0mtimeout\u001b[0m\u001b[0;34m)\u001b[0m\u001b[0;34m\u001b[0m\u001b[0;34m\u001b[0m\u001b[0m\n\u001b[0m\u001b[1;32m    559\u001b[0m             \u001b[0;32mreturn\u001b[0m \u001b[0msignaled\u001b[0m\u001b[0;34m\u001b[0m\u001b[0;34m\u001b[0m\u001b[0m\n\u001b[1;32m    560\u001b[0m \u001b[0;34m\u001b[0m\u001b[0m\n",
      "\u001b[0;32m~/anaconda3/lib/python3.8/threading.py\u001b[0m in \u001b[0;36mwait\u001b[0;34m(self, timeout)\u001b[0m\n\u001b[1;32m    300\u001b[0m         \u001b[0;32mtry\u001b[0m\u001b[0;34m:\u001b[0m    \u001b[0;31m# restore state no matter what (e.g., KeyboardInterrupt)\u001b[0m\u001b[0;34m\u001b[0m\u001b[0;34m\u001b[0m\u001b[0m\n\u001b[1;32m    301\u001b[0m             \u001b[0;32mif\u001b[0m \u001b[0mtimeout\u001b[0m \u001b[0;32mis\u001b[0m \u001b[0;32mNone\u001b[0m\u001b[0;34m:\u001b[0m\u001b[0;34m\u001b[0m\u001b[0;34m\u001b[0m\u001b[0m\n\u001b[0;32m--> 302\u001b[0;31m                 \u001b[0mwaiter\u001b[0m\u001b[0;34m.\u001b[0m\u001b[0macquire\u001b[0m\u001b[0;34m(\u001b[0m\u001b[0;34m)\u001b[0m\u001b[0;34m\u001b[0m\u001b[0;34m\u001b[0m\u001b[0m\n\u001b[0m\u001b[1;32m    303\u001b[0m                 \u001b[0mgotit\u001b[0m \u001b[0;34m=\u001b[0m \u001b[0;32mTrue\u001b[0m\u001b[0;34m\u001b[0m\u001b[0;34m\u001b[0m\u001b[0m\n\u001b[1;32m    304\u001b[0m             \u001b[0;32melse\u001b[0m\u001b[0;34m:\u001b[0m\u001b[0;34m\u001b[0m\u001b[0;34m\u001b[0m\u001b[0m\n",
      "\u001b[0;31mKeyboardInterrupt\u001b[0m: "
     ]
    }
   ],
   "source": [
    "%%time\n",
    "train['review_ent'] = preprocess(train['review'], ent_chunk, chunksize=1000)"
   ]
  },
  {
   "cell_type": "code",
   "execution_count": 31,
   "metadata": {},
   "outputs": [
    {
     "data": {
      "text/html": [
       "<div>\n",
       "<style scoped>\n",
       "    .dataframe tbody tr th:only-of-type {\n",
       "        vertical-align: middle;\n",
       "    }\n",
       "\n",
       "    .dataframe tbody tr th {\n",
       "        vertical-align: top;\n",
       "    }\n",
       "\n",
       "    .dataframe thead th {\n",
       "        text-align: right;\n",
       "    }\n",
       "</style>\n",
       "<table border=\"1\" class=\"dataframe\">\n",
       "  <thead>\n",
       "    <tr style=\"text-align: right;\">\n",
       "      <th></th>\n",
       "      <th>drugName</th>\n",
       "      <th>condition</th>\n",
       "      <th>review</th>\n",
       "      <th>rating</th>\n",
       "      <th>date</th>\n",
       "      <th>usefulCount</th>\n",
       "      <th>review_lemma</th>\n",
       "    </tr>\n",
       "  </thead>\n",
       "  <tbody>\n",
       "    <tr>\n",
       "      <th>0</th>\n",
       "      <td>Valsartan</td>\n",
       "      <td>Left Ventricular Dysfunction</td>\n",
       "      <td>It has no side effect, I take it in combinatio...</td>\n",
       "      <td>9.0</td>\n",
       "      <td>May 20, 2012</td>\n",
       "      <td>27</td>\n",
       "      <td>[it, have, no, side, effect, ,, I, take, it, i...</td>\n",
       "    </tr>\n",
       "    <tr>\n",
       "      <th>1</th>\n",
       "      <td>Guanfacine</td>\n",
       "      <td>ADHD</td>\n",
       "      <td>My son is halfway through his fourth week of I...</td>\n",
       "      <td>8.0</td>\n",
       "      <td>April 27, 2010</td>\n",
       "      <td>192</td>\n",
       "      <td>[my, son, be, halfway, through, his, fourth, w...</td>\n",
       "    </tr>\n",
       "    <tr>\n",
       "      <th>2</th>\n",
       "      <td>Lybrel</td>\n",
       "      <td>Birth Control</td>\n",
       "      <td>I used to take another oral contraceptive, whi...</td>\n",
       "      <td>5.0</td>\n",
       "      <td>December 14, 2009</td>\n",
       "      <td>17</td>\n",
       "      <td>[I, use, to, take, another, oral, contraceptiv...</td>\n",
       "    </tr>\n",
       "    <tr>\n",
       "      <th>3</th>\n",
       "      <td>Ortho Evra</td>\n",
       "      <td>Birth Control</td>\n",
       "      <td>This is my first time using any form of birth ...</td>\n",
       "      <td>8.0</td>\n",
       "      <td>November 3, 2015</td>\n",
       "      <td>10</td>\n",
       "      <td>[this, be, my, first, time, use, any, form, of...</td>\n",
       "    </tr>\n",
       "    <tr>\n",
       "      <th>4</th>\n",
       "      <td>Buprenorphine / naloxone</td>\n",
       "      <td>Opiate Dependence</td>\n",
       "      <td>Suboxone has completely turned my life around....</td>\n",
       "      <td>9.0</td>\n",
       "      <td>November 27, 2016</td>\n",
       "      <td>37</td>\n",
       "      <td>[Suboxone, have, completely, turn, my, life, a...</td>\n",
       "    </tr>\n",
       "    <tr>\n",
       "      <th>...</th>\n",
       "      <td>...</td>\n",
       "      <td>...</td>\n",
       "      <td>...</td>\n",
       "      <td>...</td>\n",
       "      <td>...</td>\n",
       "      <td>...</td>\n",
       "      <td>...</td>\n",
       "    </tr>\n",
       "    <tr>\n",
       "      <th>161292</th>\n",
       "      <td>Campral</td>\n",
       "      <td>Alcohol Dependence</td>\n",
       "      <td>I wrote my first report in Mid-October of 2014...</td>\n",
       "      <td>10.0</td>\n",
       "      <td>May 31, 2015</td>\n",
       "      <td>125</td>\n",
       "      <td>[I, write, my, first, report, in, Mid, -, Octo...</td>\n",
       "    </tr>\n",
       "    <tr>\n",
       "      <th>161293</th>\n",
       "      <td>Metoclopramide</td>\n",
       "      <td>Nausea/Vomiting</td>\n",
       "      <td>I was given this in IV before surgey. I immedi...</td>\n",
       "      <td>1.0</td>\n",
       "      <td>November 1, 2011</td>\n",
       "      <td>34</td>\n",
       "      <td>[I, be, give, this, in, iv, before, surgey, .,...</td>\n",
       "    </tr>\n",
       "    <tr>\n",
       "      <th>161294</th>\n",
       "      <td>Orencia</td>\n",
       "      <td>Rheumatoid Arthritis</td>\n",
       "      <td>Limited improvement after 4 months, developed ...</td>\n",
       "      <td>2.0</td>\n",
       "      <td>March 15, 2014</td>\n",
       "      <td>35</td>\n",
       "      <td>[limit, improvement, after, 4, month, ,, devel...</td>\n",
       "    </tr>\n",
       "    <tr>\n",
       "      <th>161295</th>\n",
       "      <td>Thyroid desiccated</td>\n",
       "      <td>Underactive Thyroid</td>\n",
       "      <td>I've been on thyroid medication 49 years, I sp...</td>\n",
       "      <td>10.0</td>\n",
       "      <td>September 19, 2015</td>\n",
       "      <td>79</td>\n",
       "      <td>[I, 've, be, on, thyroid, medication, 49, year...</td>\n",
       "    </tr>\n",
       "    <tr>\n",
       "      <th>161296</th>\n",
       "      <td>Lubiprostone</td>\n",
       "      <td>Constipation, Chronic</td>\n",
       "      <td>I've had chronic constipation all my adult lif...</td>\n",
       "      <td>9.0</td>\n",
       "      <td>December 13, 2014</td>\n",
       "      <td>116</td>\n",
       "      <td>[I, 've, have, chronic, constipation, all, my,...</td>\n",
       "    </tr>\n",
       "  </tbody>\n",
       "</table>\n",
       "<p>161297 rows × 7 columns</p>\n",
       "</div>"
      ],
      "text/plain": [
       "                        drugName                     condition  \\\n",
       "0                      Valsartan  Left Ventricular Dysfunction   \n",
       "1                     Guanfacine                          ADHD   \n",
       "2                         Lybrel                 Birth Control   \n",
       "3                     Ortho Evra                 Birth Control   \n",
       "4       Buprenorphine / naloxone             Opiate Dependence   \n",
       "...                          ...                           ...   \n",
       "161292                   Campral            Alcohol Dependence   \n",
       "161293            Metoclopramide               Nausea/Vomiting   \n",
       "161294                   Orencia          Rheumatoid Arthritis   \n",
       "161295        Thyroid desiccated           Underactive Thyroid   \n",
       "161296              Lubiprostone         Constipation, Chronic   \n",
       "\n",
       "                                                   review  rating  \\\n",
       "0       It has no side effect, I take it in combinatio...     9.0   \n",
       "1       My son is halfway through his fourth week of I...     8.0   \n",
       "2       I used to take another oral contraceptive, whi...     5.0   \n",
       "3       This is my first time using any form of birth ...     8.0   \n",
       "4       Suboxone has completely turned my life around....     9.0   \n",
       "...                                                   ...     ...   \n",
       "161292  I wrote my first report in Mid-October of 2014...    10.0   \n",
       "161293  I was given this in IV before surgey. I immedi...     1.0   \n",
       "161294  Limited improvement after 4 months, developed ...     2.0   \n",
       "161295  I've been on thyroid medication 49 years, I sp...    10.0   \n",
       "161296  I've had chronic constipation all my adult lif...     9.0   \n",
       "\n",
       "                      date  usefulCount  \\\n",
       "0             May 20, 2012           27   \n",
       "1           April 27, 2010          192   \n",
       "2        December 14, 2009           17   \n",
       "3         November 3, 2015           10   \n",
       "4        November 27, 2016           37   \n",
       "...                    ...          ...   \n",
       "161292        May 31, 2015          125   \n",
       "161293    November 1, 2011           34   \n",
       "161294      March 15, 2014           35   \n",
       "161295  September 19, 2015           79   \n",
       "161296   December 13, 2014          116   \n",
       "\n",
       "                                             review_lemma  \n",
       "0       [it, have, no, side, effect, ,, I, take, it, i...  \n",
       "1       [my, son, be, halfway, through, his, fourth, w...  \n",
       "2       [I, use, to, take, another, oral, contraceptiv...  \n",
       "3       [this, be, my, first, time, use, any, form, of...  \n",
       "4       [Suboxone, have, completely, turn, my, life, a...  \n",
       "...                                                   ...  \n",
       "161292  [I, write, my, first, report, in, Mid, -, Octo...  \n",
       "161293  [I, be, give, this, in, iv, before, surgey, .,...  \n",
       "161294  [limit, improvement, after, 4, month, ,, devel...  \n",
       "161295  [I, 've, be, on, thyroid, medication, 49, year...  \n",
       "161296  [I, 've, have, chronic, constipation, all, my,...  \n",
       "\n",
       "[161297 rows x 7 columns]"
      ]
     },
     "execution_count": 31,
     "metadata": {},
     "output_type": "execute_result"
    }
   ],
   "source": [
    "train"
   ]
  },
  {
   "cell_type": "code",
   "execution_count": 35,
   "metadata": {},
   "outputs": [],
   "source": [
    "train.to_csv('data/train.csv', index=False)"
   ]
  },
  {
   "cell_type": "code",
   "execution_count": null,
   "metadata": {},
   "outputs": [],
   "source": [
    "train_sm = train[:2000]"
   ]
  },
  {
   "cell_type": "code",
   "execution_count": 47,
   "metadata": {},
   "outputs": [
    {
     "name": "stdout",
     "output_type": "stream",
     "text": [
      "CPU times: user 11min 42s, sys: 9.41 s, total: 11min 51s\n",
      "Wall time: 11min 47s\n"
     ]
    },
    {
     "name": "stderr",
     "output_type": "stream",
     "text": [
      "<timed exec>:1: SettingWithCopyWarning: \n",
      "A value is trying to be set on a copy of a slice from a DataFrame.\n",
      "Try using .loc[row_indexer,col_indexer] = value instead\n",
      "\n",
      "See the caveats in the documentation: https://pandas.pydata.org/pandas-docs/stable/user_guide/indexing.html#returning-a-view-versus-a-copy\n"
     ]
    }
   ],
   "source": [
    "%%time\n",
    "train_sm['review_ent'] = train_sm['review'].apply(ne)"
   ]
  },
  {
   "cell_type": "code",
   "execution_count": 48,
   "metadata": {},
   "outputs": [
    {
     "name": "stderr",
     "output_type": "stream",
     "text": [
      "<ipython-input-48-194c6300c383>:1: SettingWithCopyWarning: \n",
      "A value is trying to be set on a copy of a slice from a DataFrame.\n",
      "Try using .loc[row_indexer,col_indexer] = value instead\n",
      "\n",
      "See the caveats in the documentation: https://pandas.pydata.org/pandas-docs/stable/user_guide/indexing.html#returning-a-view-versus-a-copy\n",
      "  train_sm['review_ent'] = train_sm['review_ent'].apply(set)\n"
     ]
    }
   ],
   "source": [
    "train_sm['review_ent'] = train_sm['review_ent'].apply(set)"
   ]
  },
  {
   "cell_type": "code",
   "execution_count": 52,
   "metadata": {},
   "outputs": [
    {
     "data": {
      "text/html": [
       "<div>\n",
       "<style scoped>\n",
       "    .dataframe tbody tr th:only-of-type {\n",
       "        vertical-align: middle;\n",
       "    }\n",
       "\n",
       "    .dataframe tbody tr th {\n",
       "        vertical-align: top;\n",
       "    }\n",
       "\n",
       "    .dataframe thead th {\n",
       "        text-align: right;\n",
       "    }\n",
       "</style>\n",
       "<table border=\"1\" class=\"dataframe\">\n",
       "  <thead>\n",
       "    <tr style=\"text-align: right;\">\n",
       "      <th></th>\n",
       "      <th>drugName</th>\n",
       "      <th>condition</th>\n",
       "      <th>review</th>\n",
       "      <th>rating</th>\n",
       "      <th>date</th>\n",
       "      <th>usefulCount</th>\n",
       "      <th>review_lemma</th>\n",
       "      <th>review_ent</th>\n",
       "    </tr>\n",
       "  </thead>\n",
       "  <tbody>\n",
       "    <tr>\n",
       "      <th>0</th>\n",
       "      <td>Valsartan</td>\n",
       "      <td>Left Ventricular Dysfunction</td>\n",
       "      <td>It has no side effect, I take it in combinatio...</td>\n",
       "      <td>9.0</td>\n",
       "      <td>May 20, 2012</td>\n",
       "      <td>27</td>\n",
       "      <td>[it, have, no, side, effect, ,, I, take, it, i...</td>\n",
       "      <td>{}</td>\n",
       "    </tr>\n",
       "    <tr>\n",
       "      <th>1</th>\n",
       "      <td>Guanfacine</td>\n",
       "      <td>ADHD</td>\n",
       "      <td>My son is halfway through his fourth week of I...</td>\n",
       "      <td>8.0</td>\n",
       "      <td>April 27, 2010</td>\n",
       "      <td>192</td>\n",
       "      <td>[my, son, be, halfway, through, his, fourth, w...</td>\n",
       "      <td>{Intuniv}</td>\n",
       "    </tr>\n",
       "    <tr>\n",
       "      <th>2</th>\n",
       "      <td>Lybrel</td>\n",
       "      <td>Birth Control</td>\n",
       "      <td>I used to take another oral contraceptive, whi...</td>\n",
       "      <td>5.0</td>\n",
       "      <td>December 14, 2009</td>\n",
       "      <td>17</td>\n",
       "      <td>[I, use, to, take, another, oral, contraceptiv...</td>\n",
       "      <td>{Lybrel}</td>\n",
       "    </tr>\n",
       "    <tr>\n",
       "      <th>3</th>\n",
       "      <td>Ortho Evra</td>\n",
       "      <td>Birth Control</td>\n",
       "      <td>This is my first time using any form of birth ...</td>\n",
       "      <td>8.0</td>\n",
       "      <td>November 3, 2015</td>\n",
       "      <td>10</td>\n",
       "      <td>[this, be, my, first, time, use, any, form, of...</td>\n",
       "      <td>{}</td>\n",
       "    </tr>\n",
       "    <tr>\n",
       "      <th>4</th>\n",
       "      <td>Buprenorphine / naloxone</td>\n",
       "      <td>Opiate Dependence</td>\n",
       "      <td>Suboxone has completely turned my life around....</td>\n",
       "      <td>9.0</td>\n",
       "      <td>November 27, 2016</td>\n",
       "      <td>37</td>\n",
       "      <td>[Suboxone, have, completely, turn, my, life, a...</td>\n",
       "      <td>{oxycontin}</td>\n",
       "    </tr>\n",
       "    <tr>\n",
       "      <th>5</th>\n",
       "      <td>Cialis</td>\n",
       "      <td>Benign Prostatic Hyperplasia</td>\n",
       "      <td>2nd day on 5mg started to work with rock hard ...</td>\n",
       "      <td>2.0</td>\n",
       "      <td>November 28, 2015</td>\n",
       "      <td>43</td>\n",
       "      <td>[2nd, day, on, 5, mg, start, to, work, with, r...</td>\n",
       "      <td>{5}</td>\n",
       "    </tr>\n",
       "    <tr>\n",
       "      <th>6</th>\n",
       "      <td>Levonorgestrel</td>\n",
       "      <td>Emergency Contraception</td>\n",
       "      <td>He pulled out, but he cummed a bit in me. I to...</td>\n",
       "      <td>1.0</td>\n",
       "      <td>March 7, 2017</td>\n",
       "      <td>5</td>\n",
       "      <td>[he, pull, out, ,, but, he, cumme, a, bit, in,...</td>\n",
       "      <td>{}</td>\n",
       "    </tr>\n",
       "    <tr>\n",
       "      <th>7</th>\n",
       "      <td>Aripiprazole</td>\n",
       "      <td>Bipolar Disorde</td>\n",
       "      <td>Abilify changed my life. There is hope. I was ...</td>\n",
       "      <td>10.0</td>\n",
       "      <td>March 14, 2015</td>\n",
       "      <td>32</td>\n",
       "      <td>[Abilify, change, my, life, ., there, be, hope...</td>\n",
       "      <td>{Clonidine, 5, Clondine, Zoloft, Abilify}</td>\n",
       "    </tr>\n",
       "    <tr>\n",
       "      <th>8</th>\n",
       "      <td>Keppra</td>\n",
       "      <td>Epilepsy</td>\n",
       "      <td>I Ve had  nothing but problems with the Keppe...</td>\n",
       "      <td>1.0</td>\n",
       "      <td>August 9, 2016</td>\n",
       "      <td>11</td>\n",
       "      <td>[ , I, ve, have,  , nothing, but, problem, wit...</td>\n",
       "      <td>{Keppera}</td>\n",
       "    </tr>\n",
       "    <tr>\n",
       "      <th>9</th>\n",
       "      <td>Ethinyl estradiol / levonorgestrel</td>\n",
       "      <td>Birth Control</td>\n",
       "      <td>I had been on the pill for many years. When my...</td>\n",
       "      <td>8.0</td>\n",
       "      <td>December 8, 2016</td>\n",
       "      <td>1</td>\n",
       "      <td>[I, have, be, on, the, pill, for, many, year, ...</td>\n",
       "      <td>{}</td>\n",
       "    </tr>\n",
       "    <tr>\n",
       "      <th>10</th>\n",
       "      <td>Topiramate</td>\n",
       "      <td>Migraine Prevention</td>\n",
       "      <td>I have been on this medication almost two week...</td>\n",
       "      <td>9.0</td>\n",
       "      <td>January 1, 2015</td>\n",
       "      <td>19</td>\n",
       "      <td>[I, have, be, on, this, medication, almost, tw...</td>\n",
       "      <td>{}</td>\n",
       "    </tr>\n",
       "    <tr>\n",
       "      <th>11</th>\n",
       "      <td>L-methylfolate</td>\n",
       "      <td>Depression</td>\n",
       "      <td>I have taken anti-depressants for years, with ...</td>\n",
       "      <td>10.0</td>\n",
       "      <td>March 9, 2017</td>\n",
       "      <td>54</td>\n",
       "      <td>[I, have, take, anti, -, depressant, for, year...</td>\n",
       "      <td>{Cymbalta, Deplin}</td>\n",
       "    </tr>\n",
       "    <tr>\n",
       "      <th>12</th>\n",
       "      <td>Pentasa</td>\n",
       "      <td>Crohn's Disease</td>\n",
       "      <td>I had Crohn's with a resection 30 years ago an...</td>\n",
       "      <td>4.0</td>\n",
       "      <td>July 6, 2013</td>\n",
       "      <td>8</td>\n",
       "      <td>[I, have, Crohn, 's, with, a, resection, 30, y...</td>\n",
       "      <td>{}</td>\n",
       "    </tr>\n",
       "    <tr>\n",
       "      <th>13</th>\n",
       "      <td>Dextromethorphan</td>\n",
       "      <td>Cough</td>\n",
       "      <td>Have a little bit of a lingering cough from a ...</td>\n",
       "      <td>4.0</td>\n",
       "      <td>September 7, 2017</td>\n",
       "      <td>1</td>\n",
       "      <td>[have, a, little, bit, of, a, linger, cough, f...</td>\n",
       "      <td>{Delsym}</td>\n",
       "    </tr>\n",
       "    <tr>\n",
       "      <th>14</th>\n",
       "      <td>Nexplanon</td>\n",
       "      <td>Birth Control</td>\n",
       "      <td>Started Nexplanon 2 months ago because I have ...</td>\n",
       "      <td>3.0</td>\n",
       "      <td>August 7, 2014</td>\n",
       "      <td>10</td>\n",
       "      <td>[start, Nexplanon, 2, month, ago, because, I, ...</td>\n",
       "      <td>{Nexplanon}</td>\n",
       "    </tr>\n",
       "    <tr>\n",
       "      <th>15</th>\n",
       "      <td>Liraglutide</td>\n",
       "      <td>Obesity</td>\n",
       "      <td>I have been taking Saxenda since July 2016.  I...</td>\n",
       "      <td>9.0</td>\n",
       "      <td>January 19, 2017</td>\n",
       "      <td>20</td>\n",
       "      <td>[I, have, be, take, Saxenda, since, July, 2016...</td>\n",
       "      <td>{Saxenda, Fitbit}</td>\n",
       "    </tr>\n",
       "    <tr>\n",
       "      <th>16</th>\n",
       "      <td>Trimethoprim</td>\n",
       "      <td>Urinary Tract Infection</td>\n",
       "      <td>This drug worked very well for me and cleared ...</td>\n",
       "      <td>9.0</td>\n",
       "      <td>September 22, 2017</td>\n",
       "      <td>0</td>\n",
       "      <td>[this, drug, work, very, well, for, I, and, cl...</td>\n",
       "      <td>{}</td>\n",
       "    </tr>\n",
       "    <tr>\n",
       "      <th>17</th>\n",
       "      <td>Amitriptyline</td>\n",
       "      <td>ibromyalgia</td>\n",
       "      <td>I've been taking amitriptyline since January 2...</td>\n",
       "      <td>9.0</td>\n",
       "      <td>March 15, 2017</td>\n",
       "      <td>39</td>\n",
       "      <td>[I, 've, be, take, amitriptyline, since, Janua...</td>\n",
       "      <td>{}</td>\n",
       "    </tr>\n",
       "    <tr>\n",
       "      <th>18</th>\n",
       "      <td>Lamotrigine</td>\n",
       "      <td>Bipolar Disorde</td>\n",
       "      <td>I've been on every medicine under the sun (it ...</td>\n",
       "      <td>10.0</td>\n",
       "      <td>November 9, 2014</td>\n",
       "      <td>18</td>\n",
       "      <td>[I, 've, be, on, every, medicine, under, the, ...</td>\n",
       "      <td>{Tegretol, Lamictal}</td>\n",
       "    </tr>\n",
       "    <tr>\n",
       "      <th>19</th>\n",
       "      <td>Nilotinib</td>\n",
       "      <td>Chronic Myelogenous Leukemia</td>\n",
       "      <td>I have been on Tasigna for just over 3 years n...</td>\n",
       "      <td>10.0</td>\n",
       "      <td>September 1, 2015</td>\n",
       "      <td>11</td>\n",
       "      <td>[I, have, be, on, Tasigna, for, just, over, 3,...</td>\n",
       "      <td>{Tasigna}</td>\n",
       "    </tr>\n",
       "  </tbody>\n",
       "</table>\n",
       "</div>"
      ],
      "text/plain": [
       "                              drugName                     condition  \\\n",
       "0                            Valsartan  Left Ventricular Dysfunction   \n",
       "1                           Guanfacine                          ADHD   \n",
       "2                               Lybrel                 Birth Control   \n",
       "3                           Ortho Evra                 Birth Control   \n",
       "4             Buprenorphine / naloxone             Opiate Dependence   \n",
       "5                               Cialis  Benign Prostatic Hyperplasia   \n",
       "6                       Levonorgestrel       Emergency Contraception   \n",
       "7                         Aripiprazole               Bipolar Disorde   \n",
       "8                               Keppra                      Epilepsy   \n",
       "9   Ethinyl estradiol / levonorgestrel                 Birth Control   \n",
       "10                          Topiramate           Migraine Prevention   \n",
       "11                      L-methylfolate                    Depression   \n",
       "12                             Pentasa               Crohn's Disease   \n",
       "13                    Dextromethorphan                         Cough   \n",
       "14                           Nexplanon                 Birth Control   \n",
       "15                         Liraglutide                       Obesity   \n",
       "16                        Trimethoprim       Urinary Tract Infection   \n",
       "17                       Amitriptyline                   ibromyalgia   \n",
       "18                         Lamotrigine               Bipolar Disorde   \n",
       "19                           Nilotinib  Chronic Myelogenous Leukemia   \n",
       "\n",
       "                                               review  rating  \\\n",
       "0   It has no side effect, I take it in combinatio...     9.0   \n",
       "1   My son is halfway through his fourth week of I...     8.0   \n",
       "2   I used to take another oral contraceptive, whi...     5.0   \n",
       "3   This is my first time using any form of birth ...     8.0   \n",
       "4   Suboxone has completely turned my life around....     9.0   \n",
       "5   2nd day on 5mg started to work with rock hard ...     2.0   \n",
       "6   He pulled out, but he cummed a bit in me. I to...     1.0   \n",
       "7   Abilify changed my life. There is hope. I was ...    10.0   \n",
       "8    I Ve had  nothing but problems with the Keppe...     1.0   \n",
       "9   I had been on the pill for many years. When my...     8.0   \n",
       "10  I have been on this medication almost two week...     9.0   \n",
       "11  I have taken anti-depressants for years, with ...    10.0   \n",
       "12  I had Crohn's with a resection 30 years ago an...     4.0   \n",
       "13  Have a little bit of a lingering cough from a ...     4.0   \n",
       "14  Started Nexplanon 2 months ago because I have ...     3.0   \n",
       "15  I have been taking Saxenda since July 2016.  I...     9.0   \n",
       "16  This drug worked very well for me and cleared ...     9.0   \n",
       "17  I've been taking amitriptyline since January 2...     9.0   \n",
       "18  I've been on every medicine under the sun (it ...    10.0   \n",
       "19  I have been on Tasigna for just over 3 years n...    10.0   \n",
       "\n",
       "                  date  usefulCount  \\\n",
       "0         May 20, 2012           27   \n",
       "1       April 27, 2010          192   \n",
       "2    December 14, 2009           17   \n",
       "3     November 3, 2015           10   \n",
       "4    November 27, 2016           37   \n",
       "5    November 28, 2015           43   \n",
       "6        March 7, 2017            5   \n",
       "7       March 14, 2015           32   \n",
       "8       August 9, 2016           11   \n",
       "9     December 8, 2016            1   \n",
       "10     January 1, 2015           19   \n",
       "11       March 9, 2017           54   \n",
       "12        July 6, 2013            8   \n",
       "13   September 7, 2017            1   \n",
       "14      August 7, 2014           10   \n",
       "15    January 19, 2017           20   \n",
       "16  September 22, 2017            0   \n",
       "17      March 15, 2017           39   \n",
       "18    November 9, 2014           18   \n",
       "19   September 1, 2015           11   \n",
       "\n",
       "                                         review_lemma  \\\n",
       "0   [it, have, no, side, effect, ,, I, take, it, i...   \n",
       "1   [my, son, be, halfway, through, his, fourth, w...   \n",
       "2   [I, use, to, take, another, oral, contraceptiv...   \n",
       "3   [this, be, my, first, time, use, any, form, of...   \n",
       "4   [Suboxone, have, completely, turn, my, life, a...   \n",
       "5   [2nd, day, on, 5, mg, start, to, work, with, r...   \n",
       "6   [he, pull, out, ,, but, he, cumme, a, bit, in,...   \n",
       "7   [Abilify, change, my, life, ., there, be, hope...   \n",
       "8   [ , I, ve, have,  , nothing, but, problem, wit...   \n",
       "9   [I, have, be, on, the, pill, for, many, year, ...   \n",
       "10  [I, have, be, on, this, medication, almost, tw...   \n",
       "11  [I, have, take, anti, -, depressant, for, year...   \n",
       "12  [I, have, Crohn, 's, with, a, resection, 30, y...   \n",
       "13  [have, a, little, bit, of, a, linger, cough, f...   \n",
       "14  [start, Nexplanon, 2, month, ago, because, I, ...   \n",
       "15  [I, have, be, take, Saxenda, since, July, 2016...   \n",
       "16  [this, drug, work, very, well, for, I, and, cl...   \n",
       "17  [I, 've, be, take, amitriptyline, since, Janua...   \n",
       "18  [I, 've, be, on, every, medicine, under, the, ...   \n",
       "19  [I, have, be, on, Tasigna, for, just, over, 3,...   \n",
       "\n",
       "                                   review_ent  \n",
       "0                                          {}  \n",
       "1                                   {Intuniv}  \n",
       "2                                    {Lybrel}  \n",
       "3                                          {}  \n",
       "4                                 {oxycontin}  \n",
       "5                                         {5}  \n",
       "6                                          {}  \n",
       "7   {Clonidine, 5, Clondine, Zoloft, Abilify}  \n",
       "8                                   {Keppera}  \n",
       "9                                          {}  \n",
       "10                                         {}  \n",
       "11                         {Cymbalta, Deplin}  \n",
       "12                                         {}  \n",
       "13                                   {Delsym}  \n",
       "14                                {Nexplanon}  \n",
       "15                          {Saxenda, Fitbit}  \n",
       "16                                         {}  \n",
       "17                                         {}  \n",
       "18                       {Tegretol, Lamictal}  \n",
       "19                                  {Tasigna}  "
      ]
     },
     "execution_count": 52,
     "metadata": {},
     "output_type": "execute_result"
    }
   ],
   "source": [
    "train_sm.head(20)"
   ]
  },
  {
   "cell_type": "markdown",
   "metadata": {},
   "source": [
    "### III. Entity matching"
   ]
  },
  {
   "cell_type": "markdown",
   "metadata": {},
   "source": [
    "Immediately, there are a few problems with the entity extracted:\n",
    "1. Numbers were extracted wrongly. --> remove numbers using regex\n",
    "2. Misspelling --> fuzzy match (?)\n",
    "3. Non-drug products mentioned --> consider keeping them for network visualisation\n",
    "4. Some drug names have not been extracted --> ??\n"
   ]
  },
  {
   "cell_type": "code",
   "execution_count": 82,
   "metadata": {},
   "outputs": [
    {
     "name": "stderr",
     "output_type": "stream",
     "text": [
      "<ipython-input-82-47ec2a22340c>:2: SettingWithCopyWarning: \n",
      "A value is trying to be set on a copy of a slice from a DataFrame.\n",
      "Try using .loc[row_indexer,col_indexer] = value instead\n",
      "\n",
      "See the caveats in the documentation: https://pandas.pydata.org/pandas-docs/stable/user_guide/indexing.html#returning-a-view-versus-a-copy\n",
      "  train_sm['review_ent'] = train_sm['review_ent'].apply(lambda x: [name for name in x if not name.replace('.','',1).isdigit()])\n"
     ]
    }
   ],
   "source": [
    "# remove numbers\n",
    "train_sm['review_ent'] = train_sm['review_ent'].apply(lambda x: [name for name in x if not name.replace('.','',1).isdigit()])"
   ]
  },
  {
   "cell_type": "code",
   "execution_count": 83,
   "metadata": {},
   "outputs": [],
   "source": [
    "train_sm.to_csv('data/train_sm.csv')"
   ]
  },
  {
   "cell_type": "markdown",
   "metadata": {},
   "source": [
    "### IV. Network analysis"
   ]
  },
  {
   "cell_type": "markdown",
   "metadata": {},
   "source": [
    "Visualise in network graph [reference](https://towardsdatascience.com/tutorial-network-visualization-basics-with-networkx-and-plotly-and-a-little-nlp-57c9bbb55bb9)"
   ]
  },
  {
   "cell_type": "code",
   "execution_count": 87,
   "metadata": {},
   "outputs": [
    {
     "data": {
      "text/plain": [
       "10"
      ]
     },
     "execution_count": 87,
     "metadata": {},
     "output_type": "execute_result"
    }
   ],
   "source": [
    "graph_df = train_sm[['drugName', 'condition', 'review_ent']]\n",
    "graph_df['review_ent'].apply(len).max()"
   ]
  },
  {
   "cell_type": "code",
   "execution_count": 90,
   "metadata": {},
   "outputs": [
    {
     "data": {
      "text/plain": [
       "range(0, 10)"
      ]
     },
     "execution_count": 90,
     "metadata": {},
     "output_type": "execute_result"
    }
   ],
   "source": [
    "range(10)"
   ]
  },
  {
   "cell_type": "code",
   "execution_count": 92,
   "metadata": {},
   "outputs": [
    {
     "name": "stderr",
     "output_type": "stream",
     "text": [
      "/Users/luluo/anaconda3/lib/python3.8/site-packages/pandas/core/frame.py:3065: SettingWithCopyWarning: \n",
      "A value is trying to be set on a copy of a slice from a DataFrame.\n",
      "Try using .loc[row_indexer,col_indexer] = value instead\n",
      "\n",
      "See the caveats in the documentation: https://pandas.pydata.org/pandas-docs/stable/user_guide/indexing.html#returning-a-view-versus-a-copy\n",
      "  self[k1] = value[k2]\n"
     ]
    }
   ],
   "source": [
    "graph_df[list(range(10))] = pd.DataFrame(graph_df['review_ent'].tolist(), index=graph_df.index)"
   ]
  },
  {
   "cell_type": "code",
   "execution_count": 100,
   "metadata": {},
   "outputs": [],
   "source": [
    "graph_df.drop('review_ent', axis=1, inplace=True)"
   ]
  },
  {
   "cell_type": "code",
   "execution_count": 105,
   "metadata": {},
   "outputs": [],
   "source": [
    "import networkx as nx"
   ]
  },
  {
   "cell_type": "code",
   "execution_count": 128,
   "metadata": {},
   "outputs": [],
   "source": [
    "# focus on top 10 conditions\n",
    "vis_df = graph_df[graph_df['condition'].isin(graph_df['condition'].value_counts().index[:10])]"
   ]
  },
  {
   "cell_type": "code",
   "execution_count": 125,
   "metadata": {},
   "outputs": [],
   "source": [
    "G = nx.from_pandas_edgelist(vis_df,\n",
    "                            source='condition',\n",
    "                            target='drugName',\n",
    "                            edge_attr=None,\n",
    "                            create_using=nx.Graph()\n",
    "                           )"
   ]
  },
  {
   "cell_type": "code",
   "execution_count": 126,
   "metadata": {},
   "outputs": [],
   "source": [
    "# pos = nx.layout.fruchterman_reingold_layout(G, k=1, iterations=1000, scale=2)"
   ]
  },
  {
   "cell_type": "code",
   "execution_count": 130,
   "metadata": {
    "scrolled": true
   },
   "outputs": [
    {
     "data": {
      "text/html": [
       "\n",
       "        <iframe\n",
       "            width=\"800\"\n",
       "            height=\"800\"\n",
       "            src=\"nx.html\"\n",
       "            frameborder=\"0\"\n",
       "            allowfullscreen\n",
       "        ></iframe>\n",
       "        "
      ],
      "text/plain": [
       "<IPython.lib.display.IFrame at 0x7ff943f18a30>"
      ]
     },
     "execution_count": 130,
     "metadata": {},
     "output_type": "execute_result"
    }
   ],
   "source": [
    "from pyvis.network import Network\n",
    "g = Network(height=800, width=800, notebook=True)\n",
    "g.barnes_hut()\n",
    "g.from_nx(G)\n",
    "g.show('nx.html')"
   ]
  },
  {
   "cell_type": "markdown",
   "metadata": {},
   "source": [
    "There are some interesting observations:\n",
    "* Mental health and contraception seems to be the main conditions.\n",
    "* There are some drugs overlaps between birth control and acne, depression|anxiety|insomnia and pain.\n",
    "* More worryingly ADHD have some overlaps with depression!\n",
    "\n",
    "Obviously the graph can be improved, but time is limited.\n",
    "\n",
    "Would be good to add some product names mentioned in review names too"
   ]
  },
  {
   "cell_type": "markdown",
   "metadata": {},
   "source": [
    "### V. Sentiment analysis"
   ]
  },
  {
   "cell_type": "markdown",
   "metadata": {},
   "source": [
    "Some EDA on two datasets."
   ]
  },
  {
   "cell_type": "code",
   "execution_count": 56,
   "metadata": {},
   "outputs": [
    {
     "data": {
      "text/plain": [
       "<AxesSubplot:xlabel='rating', ylabel='Count'>"
      ]
     },
     "execution_count": 56,
     "metadata": {},
     "output_type": "execute_result"
    },
    {
     "data": {
      "image/png": "[encoded data removed]",
      "text/plain": [
       "<Figure size 432x288 with 1 Axes>"
      ]
     },
     "metadata": {
      "needs_background": "light"
     },
     "output_type": "display_data"
    }
   ],
   "source": [
    "sns.histplot(train_sm['rating'])"
   ]
  },
  {
   "cell_type": "code",
   "execution_count": 57,
   "metadata": {},
   "outputs": [
    {
     "data": {
      "text/plain": [
       "<AxesSubplot:xlabel='rating', ylabel='Count'>"
      ]
     },
     "execution_count": 57,
     "metadata": {},
     "output_type": "execute_result"
    },
    {
     "data": {
      "image/png": "[encoded data removed]",
      "text/plain": [
       "<Figure size 432x288 with 1 Axes>"
      ]
     },
     "metadata": {
      "needs_background": "light"
     },
     "output_type": "display_data"
    }
   ],
   "source": [
    "sns.histplot(train['rating'])"
   ]
  },
  {
   "cell_type": "markdown",
   "metadata": {},
   "source": [
    "The small sample seems to follow the same distribution as the original, but there is imblance and maybe some sampling methods should be used."
   ]
  },
  {
   "cell_type": "code",
   "execution_count": 60,
   "metadata": {},
   "outputs": [
    {
     "name": "stdout",
     "output_type": "stream",
     "text": [
      "train_sm contains 717 drugs\n",
      "train contrains 3436 drugs\n"
     ]
    }
   ],
   "source": [
    "print('train_sm contains {} drugs'.format(len(train_sm['drugName'].unique())))\n",
    "print('train contrains {} drugs'.format(len(train['drugName'].unique())))"
   ]
  },
  {
   "cell_type": "code",
   "execution_count": 62,
   "metadata": {},
   "outputs": [
    {
     "name": "stdout",
     "output_type": "stream",
     "text": [
      "train_sm contains 265 conditions\n",
      "train contrains 885 conditions\n"
     ]
    }
   ],
   "source": [
    "print('train_sm contains {} conditions'.format(len(train_sm['condition'].unique())))\n",
    "print('train contrains {} conditions'.format(len(train['condition'].unique())))"
   ]
  },
  {
   "cell_type": "markdown",
   "metadata": {},
   "source": [
    "#### V.a Traditional NLP\n",
    "* Feature engineering: review text length, all capital words\n",
    "* TF-IDF or FastText (better for misspelled words)\n",
    "* RF as baseline\n",
    "* For aspect sentiment modelling, add aspect words (using topic modelling?) and study dependencies\n",
    "* Explore data augmentation to increase minority sample size"
   ]
  },
  {
   "cell_type": "markdown",
   "metadata": {},
   "source": [
    "#### V.b Neural NLP"
   ]
  },
  {
   "cell_type": "markdown",
   "metadata": {},
   "source": [
    "General sentiment prediction"
   ]
  },
  {
   "cell_type": "markdown",
   "metadata": {},
   "source": [
    "Because of mispelling and strong sentiment indication from capital words, I choose RoBERTa. I provide some code snipets, but no time for training."
   ]
  },
  {
   "cell_type": "code",
   "execution_count": 132,
   "metadata": {},
   "outputs": [],
   "source": [
    "import transformers\n",
    "from transformers import RobertaForSequenceClassification, RobertaTokenizer, AdamW, get_linear_schedule_with_warmup\n",
    "import torch\n",
    "from torch.utils.data import TensorDataset"
   ]
  },
  {
   "cell_type": "code",
   "execution_count": 134,
   "metadata": {},
   "outputs": [],
   "source": [
    "class BertEncoder():\n",
    "    def __init__(self, input_data, tokenizer):\n",
    "        self.tokenizer = tokenizer\n",
    "        self.input_data = input_data\n",
    "    \n",
    "    def __len__(self):\n",
    "        return len(self.input_data)\n",
    "\n",
    "    def __getitem__(self, idx):\n",
    "        return self.input_data[idx]\n",
    "    \n",
    "    def tokenize(self, max_len):\n",
    "        encoded_dicts = []\n",
    "        for text in self.input_data:\n",
    "            encoded_dict = self.tokenizer(\n",
    "                text = text,\n",
    "                add_special_tokens=True,\n",
    "                padding='max_length',\n",
    "                truncation=True,\n",
    "                max_length=max_len,\n",
    "                return_attention_mask=True,\n",
    "                return_tensors='pt'\n",
    "            )\n",
    "            encoded_dicts.append(encoded_dict)\n",
    "        input_ids = torch.cat([encoded_dict['input_ids'] for encoded_dict in encoded_dicts], dim=0)\n",
    "        attention_masks = torch.cat([encoded_dict['attention_mask'] for encoded_dict in encoded_dicts], dim=0)\n",
    "\n",
    "        return input_ids, attention_masks"
   ]
  },
  {
   "cell_type": "code",
   "execution_count": 53,
   "metadata": {},
   "outputs": [],
   "source": [
    "MODEL_NAME = 'roberta-base'\n",
    "texts = train['review'].tolist()\n",
    "labels = train['ratings'].apply(lambda x: int(x))\n",
    "\n",
    "train_dataset = BertEncoder(\n",
    "    tokenizer=RobertaTokenizer.from_pretrained('roberta-base'), \n",
    "    input_data=train_texts\n",
    "\n",
    "train_data = train_dataset.tokenize(max_len=510)\n",
    "test_data = test_dataset.tokenize(max_len=510)\n",
    "\n",
    "train_input_ids, train_attention_masks = train_data\n",
    "test_input_ids, test_attention_masks = test_data\n",
    "\n",
    "train_labels = torch.Tensor(train_labels.to_list()).long()\n",
    "test_labels = torch.Tensor(test_labels.to_list()).long()\n",
    "\n",
    "train_dataset = TensorDataset(train_input_ids, train_attention_masks, train_labels)\n",
    "test_dataset = TensorDataset(test_input_ids, test_attention_masks, test_labels)\n",
    "\n",
    "model = RobertaForSequenceClassification.from_pretrained(\n",
    "    'roberta-base',\n",
    "    output_attentions=False,\n",
    "    output_hidden_states=False,\n",
    "    num_labels = 10\n",
    ")\n",
    "\n",
    "training_args = TrainingArguments(\n",
    "    output_dir='./results',\n",
    "    num_train_epochs=8,\n",
    "    per_device_train_batch_size=16,\n",
    "    per_device_eval_batch_size=16,\n",
    "    warmup_steps=10,\n",
    "    weight_decay=0.01,\n",
    "    logging_dir='./logs',\n",
    "    load_best_model_at_end=True\n",
    ")\n",
    "\n",
    "trainer = Trainer(\n",
    "    model=model,\n",
    "    args=training_args,\n",
    "    train_dataset=train_dataset,\n",
    "    eval_dataset=test_dataset,\n",
    "    compute_metrics=compute_metrics,\n",
    "    data_collator=dummy_data_collector\n",
    ")\n",
    "\n",
    "trainer.train()\n",
    "trainer.save_model('./model')\n",
    "trainer.evaluate()\n"
   ]
  },
  {
   "cell_type": "markdown",
   "metadata": {},
   "source": [
    "Aspect sentiment modelling"
   ]
  },
  {
   "cell_type": "markdown",
   "metadata": {},
   "source": [
    "Try [ABSA](https://pypi.org/project/aspect-based-sentiment-analysis/)\n",
    "\n",
    "Need to first design an aspect list (side effect, effectiveness, effective time, etc.)\n",
    "\n",
    "Would be cool to update the network graph with aspect sentiment."
   ]
  },
  {
   "cell_type": "code",
   "execution_count": null,
   "metadata": {},
   "outputs": [],
   "source": []
  }
 ],
 "metadata": {
  "kernelspec": {
   "display_name": "Python 3",
   "language": "python",
   "name": "python3"
  },
  "language_info": {
   "codemirror_mode": {
    "name": "ipython",
    "version": 3
   },
   "file_extension": ".py",
   "mimetype": "text/x-python",
   "name": "python",
   "nbconvert_exporter": "python",
   "pygments_lexer": "ipython3",
   "version": "3.8.5"
  }
 },
 "nbformat": 4,
 "nbformat_minor": 4
}
